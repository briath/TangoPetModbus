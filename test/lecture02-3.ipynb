{
 "cells": [
  {
   "cell_type": "markdown",
   "metadata": {},
   "source": [
    "# Лекция 2. Объектно-ориентированное програмиирование"
   ]
  },
  {
   "cell_type": "markdown",
   "metadata": {},
   "source": [
    "## 2.4. Особые методы классов"
   ]
  },
  {
   "cell_type": "markdown",
   "metadata": {},
   "source": [
    "### 2.4.1. Магические методы"
   ]
  },
  {
   "cell_type": "markdown",
   "metadata": {},
   "source": [
    "Магический метод — это метод, определённый внутри класса, который начинается и заканчивается двумя подчёркиваниями. Например, магическим методом является метод \\__init__, который отвечает за инициализацию созданного объекта. Давайте определим класс User, который будет переопределять магический метод \\__init__. В нём будем записывать полученые имя и e-mail в атрибуты класса. Также определим метод, который возвращает атрибуты класса в виде словаря. С этим вы уже знакомы:"
   ]
  },
  {
   "cell_type": "code",
   "execution_count": null,
   "metadata": {},
   "outputs": [],
   "source": []
  },
  {
   "cell_type": "markdown",
   "metadata": {},
   "source": [
    "Ещё одним магическим методом является метод \\__new__, в котором прописано, что происходит в момент создания объекта класса. Метод \\__new__ возвращает только что созданный объект класса. Например, создадим класс Singleton, который гарантирует то, что не может быть создано больше одного объекта данного класса. Например, мы можем попытаться создать два объекта a и b, которые в итоге окажутся одним и тем же объектом:"
   ]
  },
  {
   "cell_type": "code",
   "execution_count": null,
   "metadata": {},
   "outputs": [],
   "source": []
  },
  {
   "cell_type": "markdown",
   "metadata": {},
   "source": [
    "Существует также метод \\__del__, который определяет поведение при удалении объекта. Однако, он работает не всегда очевидно. Он вызывается не когда мы удаляем объект оператором del, а когда количество ссылок на наш объект стало равным нулю и вызывался garbage collector. Это не всегда происходит тогда, когда мы думаем, что это должно произойти, поэтому переопределять метод \\__del__ нежелательно."
   ]
  },
  {
   "cell_type": "markdown",
   "metadata": {},
   "source": [
    "Одним из магических методов является метод \\__str__, который определяет поведение, при вызове функции print от класса. Метод \\__str__ должен определить человекочитаемое описание нашего класса, которое пользователь может потом вывести в интерфейсе. В следующем примере мы используем ранее написанный класс User, но теперь, если мы будем принтить наш объект, у нас будет выводиться понятное и читаемое название:"
   ]
  },
  {
   "cell_type": "code",
   "execution_count": null,
   "metadata": {},
   "outputs": [],
   "source": [
    "class User: \n",
    "    \n",
    "    def __init__(self, name, email):\n",
    "        self.name = name \n",
    "        self.email = email\n",
    "    \n"
   ]
  },
  {
   "cell_type": "markdown",
   "metadata": {},
   "source": [
    "Ещё двумя полезными методами магическими являются методы \\__hash__ и \\__eq__, которые определяют то, что происходит при вызове функции hash и как сравниваются объекты соответственно. Магический метод \\__hash__ переопределяет функцию хеширования, которая используется, например, когда мы получаем ключи в словаре. В следующем примере мы указываем в классе User, что при вызове функции hash в качестве хеша всегда берётся e-mail пользователя, и также при сравнении пользователей сравниваются их e-mail. Таким образом, если мы создадим двух юзеров с разными именами, но одинаковыми e-mail, при вызове функции сравнения Python покажет, что это один и тот же объект, потому что вызывается переопределённый метод \\__eq__, который сравнивает только e-mail:"
   ]
  },
  {
   "cell_type": "code",
   "execution_count": null,
   "metadata": {},
   "outputs": [],
   "source": [
    "class User: \n",
    "    \n",
    "    def __init__(self, name, email):\n",
    "        self.name = name \n",
    "        self.email = email\n",
    "        "
   ]
  },
  {
   "cell_type": "markdown",
   "metadata": {},
   "source": [
    "Точно так же функция hash возвращает теперь одно и то же значение, потому что сравниваются только e-mail, которые в данном случае одинаковы:"
   ]
  },
  {
   "cell_type": "code",
   "execution_count": null,
   "metadata": {},
   "outputs": [],
   "source": []
  },
  {
   "cell_type": "markdown",
   "metadata": {},
   "source": [
    "Также, если мы попробуем создать словарь, где в качестве ключа будут использоваться уже созданные объекты класса User, то создастся словарь только с одним ключом, потому что оба объекта имеют одинаковое значение хеша:"
   ]
  },
  {
   "cell_type": "code",
   "execution_count": null,
   "metadata": {},
   "outputs": [],
   "source": []
  },
  {
   "cell_type": "markdown",
   "metadata": {},
   "source": [
    "Очень важными магическими методами являются методы, определяющие доступ к атрибутам. Это методы \\__getattr__ и \\__getattribute__. Важно понимать отличия между ними. Итак, метод \\__getattr__ определяет поведение, когда наш атрибут, который мы пытаемся получить, не найден. Метод \\__getattribute__ вызывается в любом случае, когда мы обращаемся к какому-либо атрибуту объекта. Например, мы можем возвращать всегда какую-то строчку и ничего не делать, как в следующем примере. Мы определили класс и переопределили метод \\__getattribute__, который всегда возвращает одну и ту же строку. Таким образом, к какому бы атрибуту мы ни обратились, у нас всегда выведется эта строка:"
   ]
  },
  {
   "cell_type": "code",
   "execution_count": null,
   "metadata": {},
   "outputs": [],
   "source": [
    "class Researcher: \n",
    "    \n",
    "    def __init__(self, intellect):\n",
    "        self.intellect = intellect\n",
    "    \n"
   ]
  },
  {
   "cell_type": "markdown",
   "metadata": {},
   "source": [
    "Проверим:"
   ]
  },
  {
   "cell_type": "code",
   "execution_count": null,
   "metadata": {},
   "outputs": [],
   "source": []
  },
  {
   "cell_type": "code",
   "execution_count": null,
   "metadata": {},
   "outputs": [],
   "source": []
  },
  {
   "cell_type": "code",
   "execution_count": null,
   "metadata": {},
   "outputs": [],
   "source": [
    "class Researcher: \n",
    "    \n",
    "    def __init__(self, intellect):\n",
    "        self.intellect = intellect\n",
    "    \n",
    "    def __getattr__(self, name):\n",
    "        return 'Ничего не найдено :('\n",
    "    \n",
    "    def __getattribute__(self, name): \n",
    "        return 'Обращение к атрибуту'\n",
    "    \n",
    "obj = Researcher(False)"
   ]
  },
  {
   "cell_type": "code",
   "execution_count": null,
   "metadata": {},
   "outputs": [],
   "source": []
  },
  {
   "cell_type": "code",
   "execution_count": null,
   "metadata": {},
   "outputs": [],
   "source": []
  },
  {
   "cell_type": "markdown",
   "metadata": {},
   "source": [
    "\\__getattr__ вызывается в том случае, если атрибут не найден. В следующем примере внутри \\__getattribute__, который вызывается всегда, мы логируем, что пытаемся найти соответствующий атрибут и продолжаем выполнение, используя класс object, затем, если объект не найден, вызывается метод \\__getattr__:"
   ]
  },
  {
   "cell_type": "code",
   "execution_count": null,
   "metadata": {},
   "outputs": [],
   "source": [
    "class Researcher: \n",
    "    \n",
    "    def __init__(self, intellect):\n",
    "        self.intellect = intellect\n",
    "    \n",
    "    "
   ]
  },
  {
   "cell_type": "markdown",
   "metadata": {},
   "source": [
    "Проверим:"
   ]
  },
  {
   "cell_type": "code",
   "execution_count": null,
   "metadata": {},
   "outputs": [],
   "source": []
  },
  {
   "cell_type": "code",
   "execution_count": null,
   "metadata": {},
   "outputs": [],
   "source": []
  },
  {
   "cell_type": "markdown",
   "metadata": {},
   "source": [
    "Магический метод \\__setattr__, как вы могли догадаться, определяет поведение при присваивании значения к атрибуту. Например, вместо того, чтобы присвоить значение, мы можем опять же вернуть какую-то строчку и ничего не делать. В данном случае, если мы попытаемся присвоить значение атрибуту, у нас ничего не выйдет — атрибут не создастся:"
   ]
  },
  {
   "cell_type": "code",
   "execution_count": null,
   "metadata": {},
   "outputs": [],
   "source": [
    "class Ignorant:\n",
    "    \n",
    "    "
   ]
  },
  {
   "cell_type": "markdown",
   "metadata": {},
   "source": [
    "Проверим:"
   ]
  },
  {
   "cell_type": "code",
   "execution_count": null,
   "metadata": {},
   "outputs": [],
   "source": []
  },
  {
   "cell_type": "code",
   "execution_count": null,
   "metadata": {},
   "outputs": [],
   "source": []
  },
  {
   "cell_type": "markdown",
   "metadata": {},
   "source": [
    "Наконец, метод \\__delattr__ управляет поведением при удалении атрибута объекта. Например, его имеет смысл использовать, если мы хотим каскадно удалить объекты, связанные с нашим классом. В данном случае мы просто продолжаем удаление с помощью класса object и логируем то, что у нас происходит удаление:"
   ]
  },
  {
   "cell_type": "code",
   "execution_count": null,
   "metadata": {},
   "outputs": [],
   "source": [
    "class Polite: \n",
    "    \n",
    "    "
   ]
  },
  {
   "cell_type": "code",
   "execution_count": null,
   "metadata": {},
   "outputs": [],
   "source": []
  },
  {
   "cell_type": "markdown",
   "metadata": {},
   "source": [
    "Ещё одним магическим методом является метод \\__call__, который определяет поведение программы при вызове класса. Например, с помощью метода \\__call__ мы можем определить logger, который будем потом использовать в качестве декоратора (да, декоратором может быть не только функция, но и класс!). В примере ниже при инициализации класса Logger объект этого класса запоминает filename, который ему передан. Каждый раз, когда мы будем вызывать наш класс, он будет возвращать новую функцию в соответствии с протоколом декораторов и записывать в лог-файл строчку о вызове функции. В данном случае мы определяем пустую функцию, и декоратор записывает все её вызовы:"
   ]
  },
  {
   "cell_type": "code",
   "execution_count": null,
   "metadata": {},
   "outputs": [],
   "source": [
    "class Logger: \n",
    "    \n",
    "    def __init__(self, filename): \n",
    "        self.filename = filename\n",
    "        \n",
    "    def __call__(self, func): \n",
    "        def wrapped(*args, **kwargs): \n",
    "            with open(self.filename, 'a') as f: \n",
    "                f.write(f'Вызвана функция {func.__name__}')\n",
    "            return func(*args, *kwargs) \n",
    "        return wrapped\n",
    "    \n",
    "logger = Logger('log.txt')\n",
    "\n",
    "@logger \n",
    "def completely_useless_function(): \n",
    "    pass"
   ]
  },
  {
   "cell_type": "code",
   "execution_count": null,
   "metadata": {},
   "outputs": [],
   "source": []
  },
  {
   "cell_type": "markdown",
   "metadata": {},
   "source": [
    "Классическим примером на перегрузку операторов в других языках программирования является перегрузка оператора сложения. В Python-е за операцию сложения отвечает оператор \\__add__ (в свою очередь, вычитание можно перегрузить с помощью метода \\__sub__). В качестве примера определим класс NoisyInt, который будет работать почти как integer, но добавлять шум при сложении:"
   ]
  },
  {
   "cell_type": "code",
   "execution_count": null,
   "metadata": {},
   "outputs": [],
   "source": [
    "import random\n",
    "\n",
    "class NoisyInt: \n",
    "    \n",
    "    "
   ]
  },
  {
   "cell_type": "markdown",
   "metadata": {},
   "source": [
    "Проверим:"
   ]
  },
  {
   "cell_type": "code",
   "execution_count": null,
   "metadata": {},
   "outputs": [],
   "source": []
  },
  {
   "cell_type": "markdown",
   "metadata": {},
   "source": [
    "### 2.4.2. Итераторы"
   ]
  },
  {
   "cell_type": "markdown",
   "metadata": {},
   "source": [
    "C итераторами вы уже работали раньше, когда, например, использовали функцию range для цикла for. Цикл for позволяет пробегать по итератору и, например, выводить подряд числа, как в случае с функцией range:"
   ]
  },
  {
   "cell_type": "code",
   "execution_count": null,
   "metadata": {},
   "outputs": [],
   "source": []
  },
  {
   "cell_type": "markdown",
   "metadata": {},
   "source": [
    "Также простейшим итератором является строка или коллекция:"
   ]
  },
  {
   "cell_type": "code",
   "execution_count": null,
   "metadata": {},
   "outputs": [],
   "source": []
  },
  {
   "cell_type": "markdown",
   "metadata": {},
   "source": [
    "Итератор — это объект, по которому вы можете итерироваться. Можно создать свой простейший итератор при помощи встроенной функции iter() и, например, передать ей список. Внутри протокол итерации работает очень просто. Для получения следующего элемента каждый раз вызывается функция next(), которая возвращает следующий элемент. В данном случае это 1, 2 и 3. Когда элементы исчерпаны, то есть итератор закончился, выбрасывается исключение StopIteration, которое говорит о том, что, например, нужно выйти из цикла for:"
   ]
  },
  {
   "cell_type": "code",
   "execution_count": null,
   "metadata": {},
   "outputs": [],
   "source": []
  },
  {
   "cell_type": "code",
   "execution_count": null,
   "metadata": {},
   "outputs": [],
   "source": []
  },
  {
   "cell_type": "code",
   "execution_count": null,
   "metadata": {},
   "outputs": [],
   "source": []
  },
  {
   "cell_type": "code",
   "execution_count": null,
   "metadata": {},
   "outputs": [],
   "source": []
  },
  {
   "cell_type": "code",
   "execution_count": null,
   "metadata": {},
   "outputs": [],
   "source": []
  },
  {
   "cell_type": "markdown",
   "metadata": {},
   "source": [
    "В Python вы, конечно, можете реализовать свой собственный итератор,написав класс с соответствующими магическими методами.Эти магические методы — этометоды \\__iter__ и \\__next__. Метод \\__iter__ должен возвращать сам итератор, а метод \\__next__ определяет то, какие элементы возвращаются при каждой следующей итерации."
   ]
  },
  {
   "cell_type": "markdown",
   "metadata": {},
   "source": [
    "Давайте напишем свой класс SquareIterator,который будет аналогом функции range, но возвращающим не сами числа в определённом диапазоне, а квадраты чисел. В функции \\__init__ сохраняются пределы итерирования, а в функции \\__next__ указано, что происходит при вызове следующего элемента. Если элементы исчерпаны (current превысил end), выбрасываем исключение StopIteration, которое говорит протоколу итерации о том, что итерация должна закончиться. В любом другом случае мы возводим число в квадрат и инкрементируем счётчик:"
   ]
  },
  {
   "cell_type": "code",
   "execution_count": null,
   "metadata": {},
   "outputs": [],
   "source": [
    "class SquareIterator: \n",
    "    \n",
    "    "
   ]
  },
  {
   "cell_type": "markdown",
   "metadata": {},
   "source": [
    "Python позволяет вам создавать собственные итераторы, и иногда это бывает полезно, когда вам нужно поддержать протокол итерации в своём классе. Что интересно, можно также определить свой собственный итератор, не определяя \\__iter__ и \\__next__. Это можно сделать, написав у класса метод \\__getitem__, который определяет работу класса при обращении к его объектам с помощью квадратных скобок (как к контейнеру). Мы можем создать свой собственный контейнер IndexIterable, прописав метод \\__getitem__:"
   ]
  },
  {
   "cell_type": "code",
   "execution_count": null,
   "metadata": {},
   "outputs": [],
   "source": [
    "class IndexIterable: \n",
    "    \n",
    "    "
   ]
  },
  {
   "cell_type": "markdown",
   "metadata": {},
   "source": [
    "Это делается довольно редко. Чаще всего для того чтобы определить свой итератор, используются именно методы \\__iter__ и \\__next__."
   ]
  },
  {
   "cell_type": "markdown",
   "metadata": {},
   "source": [
    "### 2.4.3. Контекстные менеджеры"
   ]
  },
  {
   "cell_type": "markdown",
   "metadata": {},
   "source": [
    "С контекстными менеджерами вы уже работали, когда открывали файлы. Вам известно, что если использовать контекстный менеджер with для открытия файла, вам не нужно заботиться о том, чтобы потом его закрыть — контекстный менеджер сделает это сам. Контекстные менеджеры определяют поведение, которое происходит в начале и в конце блока исполнения (блока with). Часто после использования ресурса его необходимо закрыть (как, например, в случае с файлами, сокетами, соединениями). Чтобы об этом не заботиться, можно использовать контекстный менеджер. Также они используются при работе с транзакциями (когда обязательно нужно либо закончить транзакцию, либо ее откатить)."
   ]
  },
  {
   "cell_type": "markdown",
   "metadata": {},
   "source": [
    "Чтобы определить свой контекстный менеджер, нужно написать свой класс с магическими методами. Эти магические методы — \\__enter__ и \\__exit__, которые говорят о том, что происходит в начале и в конце исполнения кода внутри контекстного менеджера. Давайте попробуем написать аналог стандартного контекстного менеджера для открытия файлов и назовём его open_file. (Обратите внимание, что название класса пишется snake_case-ом, так как это контекстный менеджер.)"
   ]
  },
  {
   "cell_type": "code",
   "execution_count": null,
   "metadata": {},
   "outputs": [],
   "source": []
  },
  {
   "cell_type": "markdown",
   "metadata": {},
   "source": [
    "Итак, наш контекстный менеджер используется точно так же, как и стандартный. При вызове open_file создается файловый объект (вызывается метод \\__init__), который записывается в переменную класса f. Переменная f возвращается из метода \\__enter__ (метод \\__enter__ возвращает то, что требуется потом записать с помощью оператора as — мы можем ничего не возвращать из \\__enter__, но тогда не будет смысла использовать as). Соответственно, в методе \\__exit__ определяется поведение, которое происходит при выходе из блока контекстного менеджера:"
   ]
  },
  {
   "cell_type": "code",
   "execution_count": null,
   "metadata": {},
   "outputs": [],
   "source": [
    "class open_file: \n",
    "    \n",
    "   "
   ]
  },
  {
   "cell_type": "code",
   "execution_count": null,
   "metadata": {},
   "outputs": [],
   "source": []
  },
  {
   "cell_type": "code",
   "execution_count": null,
   "metadata": {},
   "outputs": [],
   "source": []
  },
  {
   "cell_type": "markdown",
   "metadata": {},
   "source": [
    "Итак, мы открыли файл и записали в него строчку. Если попробовать прочитать этот файл, окажется, что строчка действительно там, а файл открылся и закрылся сам."
   ]
  },
  {
   "cell_type": "markdown",
   "metadata": {},
   "source": [
    "Контекстные менеджеры позволяют управлять исключениями, которые произошли внутри блока. Например,мы можем определить контекстный менеджер suppress_exception, который будет работать с exception, которые произошли внутри. Обратите внимание, что в данном случае мы не используем оператор as, поэтому нам не важно, что возвращается из \\__enter__. Пусть наш контекстный менеджер будет принимать тип exception и затем проверять, произошло ли исключение данного типа. Если да — делаем вид, что ничего не произошло. (Нужно обязательно вернуть true из\\__exit__ при исключении, чтобы воспроизведение кода продолжилось и exception не был выброшен.)"
   ]
  },
  {
   "cell_type": "code",
   "execution_count": null,
   "metadata": {},
   "outputs": [],
   "source": [
    "class suppress_exception: \n",
    "    \n",
    "    "
   ]
  },
  {
   "cell_type": "code",
   "execution_count": null,
   "metadata": {},
   "outputs": [],
   "source": []
  },
  {
   "cell_type": "markdown",
   "metadata": {},
   "source": [
    "Что интересно, такой контекстный менеджер уже есть в стандартной библиотеке в contextlib:"
   ]
  },
  {
   "cell_type": "code",
   "execution_count": null,
   "metadata": {},
   "outputs": [],
   "source": []
  },
  {
   "cell_type": "markdown",
   "metadata": {},
   "source": [
    "В качестве примера реализуем контекстный менеджер, который считает время, за которое выполняется код внутри него. Для этого нужно завести переменную, которая фиксирует время запуска контекстного менеждера. Происходит это в методе \\__init__, когда создается объект класса. В \\__exit__ вернём разность текущего времени и сохранённого в методе \\__init__. Также, чтобы иметь возможность выводить внутри контекстного менеджера текущее время выполнения, пропишем return self в \\__enter__ и определим метод класса current_time:"
   ]
  },
  {
   "cell_type": "code",
   "execution_count": null,
   "metadata": {},
   "outputs": [],
   "source": [
    "import time\n",
    "\n",
    "class timer(): \n",
    "    \n",
    "    "
   ]
  },
  {
   "cell_type": "markdown",
   "metadata": {},
   "source": [
    "## 2.5. Механизм работы классов"
   ]
  },
  {
   "cell_type": "markdown",
   "metadata": {},
   "source": [
    "### 2.5.1. Дескрипторы"
   ]
  },
  {
   "cell_type": "markdown",
   "metadata": {},
   "source": [
    "С помощью дескрипторов в Python реализована практически вся магия при работе с объектами, классами и методами. Чтобы определить свой собственный дескриптор, нужно определить методы класса \\__get__, \\__set__ или \\__delete__. После этого мы можем создать какой-то новый класс и в атрибут этого класса записать объект типа дескриптор. Теперь у данного объекта будет переопределено поведение при доступе к атрибуту (метод \\__get__), при присваивании значений (метод \\__set__) или при удалении (метод \\__delete__). Мы создадим объект класса Class и посмотрим, что будет происходить при обращении к атрибуту:"
   ]
  },
  {
   "cell_type": "code",
   "execution_count": null,
   "metadata": {},
   "outputs": [],
   "source": [
    "class Descriptor: \n",
    "    \n",
    "    "
   ]
  },
  {
   "cell_type": "code",
   "execution_count": null,
   "metadata": {},
   "outputs": [],
   "source": []
  },
  {
   "cell_type": "code",
   "execution_count": null,
   "metadata": {},
   "outputs": [],
   "source": []
  },
  {
   "cell_type": "markdown",
   "metadata": {},
   "source": [
    "Дескрипторы явялются мощным механизмом, который позволяет вам незаметно от пользователя переопределять поведение атрибутов в ваших классах. Например, мы можем определить дескриптор Value, который будет переопределять поведение при присваивании ему значения. Определим класс с атрибутом, который будет являться дескриптором, и будем выполнять модифицированное поведение (умножение на 10) при присваивании значения:"
   ]
  },
  {
   "cell_type": "code",
   "execution_count": null,
   "metadata": {},
   "outputs": [],
   "source": [
    "class Value: \n",
    "    \n",
    "    "
   ]
  },
  {
   "cell_type": "markdown",
   "metadata": {},
   "source": [
    "Для примера реализуем дескриптор, который записывает в файл все присваиваемые ему значения. Таким образом, если мы создадим класс с какой-то важной информацией (например, класс Account), где важная информация - это amount, денежное значение, которое всегда нужно сохранять:"
   ]
  },
  {
   "cell_type": "code",
   "execution_count": null,
   "metadata": {},
   "outputs": [],
   "source": [
    "class ImportantValue: \n",
    "    \n",
    "   "
   ]
  },
  {
   "cell_type": "markdown",
   "metadata": {},
   "source": [
    "Несмотря на то, что вы пользовались функциями и методами уже довольно давно, вы могли не знать, что на самом деле функции и методы реализованы с помощью дескрипторов. Чтобы понять, что это действительно так, можно попробовать обратиться к одному и тому же методу с помощью объекта класса и самого класса. Оказывается, когда мы обращаемся к методу с помощью obj.method, возвращается bound method — метод, привязанный к определённому объекту. А если мы обращаемся к методу от Class, получаем unbound method — это просто функция. Как видите, один и тот же метод возвращает разные объекты в зависимости от того, как к нему обращаются. Это и есть поведение дескриптора:"
   ]
  },
  {
   "cell_type": "code",
   "execution_count": null,
   "metadata": {},
   "outputs": [],
   "source": [
    "class Class: \n",
    "    \n",
    "   "
   ]
  },
  {
   "cell_type": "markdown",
   "metadata": {},
   "source": [
    "Вам уже знаком декоратор @property, который позволяет использовать функцию как атрибут класса. В данном случае мы можем определить full_name, который хоть и является функцией, которая возвращает строчку, используется потом так же, как и обычный атрибут, то есть без вызова скобок. При вызове full_name от объекта у нас вызывается функция full_name. Однако если мы пытаемся обратиться к full_name от класса, вернётся объект типа property. На самом деле, property реализовано с помощью дескрипторов, чем и объясняется разное поведение в зависимости от того, как вызывается этот объект:"
   ]
  },
  {
   "cell_type": "code",
   "execution_count": null,
   "metadata": {},
   "outputs": [],
   "source": [
    "class User: \n",
    "    \n",
    "    def __init__(self, first_name, last_name): \n",
    "        self.first_name = first_name \n",
    "        self.last_name = last_name\n",
    "        \n",
    "    @property \n",
    "    def full_name(self): \n",
    "        return f'{self.first_name} {self.last_name}'\n",
    "    \n"
   ]
  },
  {
   "cell_type": "markdown",
   "metadata": {},
   "source": [
    "Напишем свой собственный класс, который будет эмулировать поведение стандартного property. Для этого нужно сохранить функцию, которую property получает. Когда объект вызывается от класса, мы просто возвращаем self, а если атрибут вызван от объекта, вызываем сохранённую функцию:"
   ]
  },
  {
   "cell_type": "code",
   "execution_count": null,
   "metadata": {},
   "outputs": [],
   "source": [
    "class Property:\n",
    "    \n",
    "    "
   ]
  },
  {
   "cell_type": "code",
   "execution_count": null,
   "metadata": {},
   "outputs": [],
   "source": [
    "class Class: \n",
    "    "
   ]
  },
  {
   "cell_type": "markdown",
   "metadata": {},
   "source": [
    "Проверим:"
   ]
  },
  {
   "cell_type": "code",
   "execution_count": null,
   "metadata": {},
   "outputs": [],
   "source": []
  },
  {
   "cell_type": "code",
   "execution_count": null,
   "metadata": {},
   "outputs": [],
   "source": []
  },
  {
   "cell_type": "code",
   "execution_count": null,
   "metadata": {},
   "outputs": [],
   "source": []
  },
  {
   "cell_type": "code",
   "execution_count": null,
   "metadata": {},
   "outputs": [],
   "source": []
  },
  {
   "cell_type": "markdown",
   "metadata": {},
   "source": [
    "Точно так же реализованы @staticmethod и @classmethod. Давайте опять напишем свою реализацию этих декораторов. StaticMethod будет просто сохранять функцию и возвращать её при вызове:"
   ]
  },
  {
   "cell_type": "code",
   "execution_count": null,
   "metadata": {},
   "outputs": [],
   "source": [
    "class StaticMethod: \n",
    "    \n",
    "    "
   ]
  },
  {
   "cell_type": "markdown",
   "metadata": {},
   "source": [
    "В то же время, ClassMethod возвращает функцию, которая первым аргументом принимает obj_type, то есть класс:"
   ]
  },
  {
   "cell_type": "code",
   "execution_count": null,
   "metadata": {},
   "outputs": [],
   "source": [
    "class ClassMethod: \n",
    "    \n",
    "    def __init__(self, func): \n",
    "        self.func = func\n",
    "        \n",
    "    def __get__(self, obj, obj_type=None): \n",
    "        if obj_type is None: \n",
    "            obj_type = type(obj)\n",
    "        def new_func(*args, **kwargs): \n",
    "            return self.func(obj_type, *args, **kwargs)\n",
    "        return new_func"
   ]
  },
  {
   "cell_type": "markdown",
   "metadata": {},
   "source": [
    "Последний пример дескрипторов в стандартной библиотеке Python — конструкция \\__slots__, которая позволяет определить класс с жестко заданным набором атрибутов. Как вы помните, у каждого класса есть словарь, в котором хранятся все его атрибуты. Очень часто это бывает излишне. У вас может быть огромное количество объектов, и вы не хотите создавать для каждого объекта словарь. В таком случае конструкция \\__slots__ позволяет жестко задать количество элементов, которые ваш класс может содержать. В следующем примере мы постулируем, что в нашем классе должен быть только атрибут anakin. Если мы попытаемся добавить в наш класс еще один атрибут, ничего не получится:"
   ]
  },
  {
   "cell_type": "code",
   "execution_count": null,
   "metadata": {},
   "outputs": [],
   "source": [
    "class Class: \n",
    "    \n",
    "   "
   ]
  },
  {
   "cell_type": "markdown",
   "metadata": {},
   "source": [
    "Конструкция \\__slots__ реализуется с помощью определения дескрипторов для каждого из атрибутов."
   ]
  },
  {
   "cell_type": "markdown",
   "metadata": {},
   "source": [
    "### 2.5.2. Метаклассы"
   ]
  },
  {
   "cell_type": "markdown",
   "metadata": {},
   "source": [
    "Как вы уже знаете, всё в Python является объектом, и классы не исключение, а значит, эти классы кто-то создаёт. Давайте определим класс с названием Class и его объект. Тип нашего объекта является Class, потому что Class создал наш объект:"
   ]
  },
  {
   "cell_type": "code",
   "execution_count": null,
   "metadata": {},
   "outputs": [],
   "source": []
  },
  {
   "cell_type": "markdown",
   "metadata": {},
   "source": [
    "Однако, у класса тоже есть тип — type, потому что type, создал наш класс. В данном случае type, является метаклассом, т.е. он создаёт другие классы:"
   ]
  },
  {
   "cell_type": "code",
   "execution_count": null,
   "metadata": {},
   "outputs": [],
   "source": []
  },
  {
   "cell_type": "markdown",
   "metadata": {},
   "source": [
    "Типом самого type, кстати, является он сам. Это рекурсивное замыкание, которое реализовано внутри Python с помощью С:"
   ]
  },
  {
   "cell_type": "code",
   "execution_count": null,
   "metadata": {},
   "outputs": [],
   "source": []
  },
  {
   "cell_type": "markdown",
   "metadata": {},
   "source": [
    "Очень важно понимать разницу между созданием и наследованием. В данном случае класс не является subclass-ом type. Type его создаёт, но класс не наследуется от него, а наследуется от класса object:"
   ]
  },
  {
   "cell_type": "code",
   "execution_count": null,
   "metadata": {},
   "outputs": [],
   "source": []
  },
  {
   "cell_type": "code",
   "execution_count": null,
   "metadata": {},
   "outputs": [],
   "source": []
  },
  {
   "cell_type": "markdown",
   "metadata": {},
   "source": [
    "Чтобы понять, как задаются классы, можно написать простую функцию, которая возвращает класс. В следующем примере мы определяем функцию, которая возвращает класс dummy_factory. Классы можно создавать на лету, и в данном случае мы создаём два разных объекта и возвращаем их:"
   ]
  },
  {
   "cell_type": "code",
   "execution_count": null,
   "metadata": {},
   "outputs": [],
   "source": [
    "def dummy_factory(): \n",
    "   "
   ]
  },
  {
   "cell_type": "markdown",
   "metadata": {},
   "source": [
    "Однако на самом деле, Python работает не так. Для создания классов используется метакласс type, и вы можете на лету создать класс, вызвав type и передав ему название класса. Для примера создадим класс NewClass без родителей и атрибутов. Это настоящий класс, мы создали его на лету без использования литерала class:"
   ]
  },
  {
   "cell_type": "code",
   "execution_count": null,
   "metadata": {},
   "outputs": [],
   "source": []
  },
  {
   "cell_type": "markdown",
   "metadata": {},
   "source": [
    "Чаще всего классы создаются с помощью метаклассов. Давайте определим свой собственный метакласс Meta, который будет управлять поведением при создании класса. Для того чтобы он был метаклассом, он должен наследоваться от другого метакласса (type). Метод метакласса \\__new__ принимает название класса, его родителей и атрибуты. Мы можем определить новый класс A и указать, что его метаклассом является Meta. Именно этот метакласс и будет управлять поведением при создании нового класса. Таким образом, мы можем переопределить поведение при создании класса (например, добавить ему атрибут или сделать что-нибудь другое):"
   ]
  },
  {
   "cell_type": "code",
   "execution_count": null,
   "metadata": {},
   "outputs": [],
   "source": [
    "class Meta(type): \n",
    "    \n",
    "    "
   ]
  },
  {
   "cell_type": "code",
   "execution_count": null,
   "metadata": {},
   "outputs": [],
   "source": []
  },
  {
   "cell_type": "markdown",
   "metadata": {},
   "source": [
    "Например, мы можем определить метакласс, который переопределяет функцию \\__init__, и тогда каждый класс, созданный этим метаклассом, будет запоминать все созданные подклассы. Новый \\__init__ записывает свой собственный атрибут, в котором будет храниться словарь созданных классов. В следующем примере у нас вначале создаётся класс Base, метаклассом которого является Meta, и у него создаётся атрибут класса registry, в который мы будем записывать все его подклассы. Каждый раз, когда у нас создаётся какой-то класс, который наследуется от Base, мы записываем в registry соответствующее значение, то есть название созданного класса и ссылку на него:"
   ]
  },
  {
   "cell_type": "code",
   "execution_count": null,
   "metadata": {},
   "outputs": [],
   "source": [
    "class Meta(type): \n",
    "    def __init__(cls, name, bases, attrs): \n",
    "        print('Инициализирован — {}'.format(name))\n",
    "        if not hasattr(cls, 'registry'): \n",
    "            cls.registry = {} \n",
    "        else: \n",
    "            cls.registry[name.lower()] = cls\n",
    "        super().__init__(name, bases, attrs)\n",
    "        \n",
    "        \n"
   ]
  },
  {
   "cell_type": "code",
   "execution_count": null,
   "metadata": {},
   "outputs": [],
   "source": []
  },
  {
   "cell_type": "code",
   "execution_count": null,
   "metadata": {},
   "outputs": [],
   "source": []
  },
  {
   "cell_type": "markdown",
   "metadata": {},
   "source": [
    "Очень часто при работе с объектно-ориентированной парадигмой в Python возникают вопросы про абстрактные методы, потому что они являются центральным понятием, например, в языке программирования C++. В Python абстрактные методы реализованы в стандартной библиотеки abc. Здесь также работают метаклассы — они могут создать абстрактный класс с методом @abstractmethod. Декоратор @abstractmethod гарантирует, что у нас не получится создать класс-наследник, не определив этот метод — мы обязаны его переопределить в классе, который наследуется от нашего класса. В следующем примере Child не переопределяет метод send, и поэтому вызывается ошибка:"
   ]
  },
  {
   "cell_type": "code",
   "execution_count": null,
   "metadata": {},
   "outputs": [],
   "source": [
    "from abc import ABCMeta, abstractmethod\n",
    "\n",
    "class Sender(metaclass=ABCMeta): \n",
    "    @abstractmethod \n",
    "    def send(self): \n",
    "        \"\"\"Сделайте что-нибудь\"\"\"\n",
    "        \n",
    "class Child(Sender): \n",
    "    pass\n",
    "\n",
    "Child()"
   ]
  },
  {
   "cell_type": "markdown",
   "metadata": {},
   "source": [
    "Переопределим метод send, и программа будет работать:"
   ]
  },
  {
   "cell_type": "code",
   "execution_count": null,
   "metadata": {},
   "outputs": [],
   "source": []
  },
  {
   "cell_type": "markdown",
   "metadata": {},
   "source": [
    "На самом деле, абстрактные методы используются в Python довольно редко, чаще всего вызывается исключение NotImplementedError, которое говорит о том, что этот метод нужно реализовать. Программист видит в определении класса, что в методе вызывается raise NotImplementedError, и понимает, что этот метод нужно переопределить в потомке:"
   ]
  },
  {
   "cell_type": "code",
   "execution_count": null,
   "metadata": {},
   "outputs": [],
   "source": []
  },
  {
   "cell_type": "markdown",
   "metadata": {},
   "source": [
    "## 2.6. Отладка и тестирование"
   ]
  },
  {
   "cell_type": "markdown",
   "metadata": {},
   "source": [
    "### 2.6.1. Отладка"
   ]
  },
  {
   "cell_type": "markdown",
   "metadata": {},
   "source": [
    "Скорее всего отладкой вы уже занимались, когда пытались выяснить, почему ваша программа не работает или работает некорректно. Если вы программируете в IDE, скорее всего, там есть инструментарий для отладки кода, и вы можете запускать вашу программу под отладчиком, ставить брейкпоинты, следить за переменными и т.д. Мы разберём классический механизм отладки с помощью Python Debugger-а. Например, мы написали программу, которая принимает на вход сайт, URL сайта и какую-то строчку, и ищет в коде сайта эту строчку и считает, сколько раз там встретилась эта строка. Затем запустили программу в Jupyter Notebook. Эта программа выдаёт неочевидную ошибку, которую мы хотим отладить. \n",
    "Проверим:"
   ]
  },
  {
   "cell_type": "code",
   "execution_count": null,
   "metadata": {},
   "outputs": [],
   "source": [
    "import re \n",
    "import requests\n",
    "\n",
    "def main(site_url, substring): \n",
    "    site_code = get_site_code(site_url) \n",
    "    matching_substrings = get_matching_substrings(site_code, substring) \n",
    "    print('\"{}\" найдено {} штук на ресурсе {}'.format(substring, \n",
    "                                             len(matching_substrings), site_url\n",
    "                                            ))\n",
    "    \n",
    "def get_site_code(site_url): \n",
    "    if not site_url.startswith('http'): \n",
    "        site_url = 'http://' + site_url\n",
    "        return requests.get(site_url).text\n",
    "    \n",
    "def get_matching_substrings(source, substring): \n",
    "    return re.findall(source, substring)\n",
    "\n",
    "main('mail.ru', 'script')"
   ]
  },
  {
   "cell_type": "markdown",
   "metadata": {},
   "source": [
    "Чтобы запустить отладчик в нашей программе, мы можем импортировать pdb и вызвать команду pdb.set_trace в том месте кода, где мы хотим остановить выполнение и начать отладку. \n",
    "Если мы теперь запустим программу, она не дойдёт до ошибки, а остановится именно в том месте, где мы определили наш отладчик. Можем посмотреть, где это находится, с помощью команды ll (long list). Печатаем эту команду прямо в окошко Pdb и получаем:"
   ]
  },
  {
   "cell_type": "code",
   "execution_count": null,
   "metadata": {},
   "outputs": [],
   "source": [
    "def main(site_url, substring): \n",
    "    import pdb \n",
    "    pdb.set_trace()\n",
    "    \n",
    "    site_code = get_site_code(site_url) \n",
    "    matching_substrings = get_matching_substrings(site_code, substring) \n",
    "    print('\"{}\" найдено {} штук на ресурсе {}'.format( substring, \n",
    "                                             len(matching_substrings), site_url \n",
    "                                            ))\n",
    "\n",
    "def get_site_code(site_url): \n",
    "    if not site_url.startswith('http'): \n",
    "        site_url = 'http://' + site_url\n",
    "        return requests.get(site_url).text\n",
    "    \n",
    "def get_matching_substrings(source, substring): \n",
    "    return re.findall(source, substring)\n",
    "\n",
    "main('mail.ru', 'script')"
   ]
  },
  {
   "cell_type": "markdown",
   "metadata": {},
   "source": [
    "Все команды отладчика посмотреть с помощью функции help. Чтобы узнать, что делает конкретная команда, пишут знак вопроса и затем название команды. Например:"
   ]
  },
  {
   "cell_type": "markdown",
   "metadata": {},
   "source": [
    "Итак, дальше есть несколько опций. Мы можем написать continue или c и продолжить исполнение до конца, пока не закончится программа, не упадёт исключение или не появится брейкпоинт. Также мы можем написать step, чтобы попасть внутрь функции, однако у нас ошибка не внутри функции, а дальше, поэтому мы напишем next и перейдём на следующуюстроку. Следующая строка — это вызов функции get_matching_substrings, именно он нас интересует. Пройдём внуть функции, набрав step. Дальше — вызов функции findall, в котором и была ошибка. \n",
    "Итак, мы в findall передаём source и substring и пытаемся найти substring в source. Давайте зайдём в findall, которая определена в стандартной библиотеке с помощью команды s.\n",
    "Вы скорее всего уже заметили, в чём была ошибка, посмотрев на определение findall. Функция findall принимает вначале паттерн, а потом строку, и ищет этот паттерн в строке, а мы передаём ровно наоборот. Именно это и является ошибкой. Давайте выйдем или продолжим исполнение. Чтобы выйти, нужно написать q или quit."
   ]
  },
  {
   "cell_type": "markdown",
   "metadata": {},
   "source": [
    "Если мы исправим нашу ошибку, программа заработает и выдаст результат:"
   ]
  },
  {
   "cell_type": "code",
   "execution_count": null,
   "metadata": {},
   "outputs": [],
   "source": [
    "import re \n",
    "import requests\n",
    "\n",
    "def main(site_url, substring): \n",
    "    site_code = get_site_code(site_url) \n",
    "    matching_substrings = get_matching_substrings(site_code, substring) \n",
    "    print('\"{}\" найдено {} штук на ресурсе {}'.format(substring, \n",
    "                                             len(matching_substrings), site_url\n",
    "                                            ))\n",
    "    \n",
    "def get_site_code(site_url): \n",
    "    if not site_url.startswith('http'): \n",
    "        site_url = 'http://' + site_url\n",
    "        return requests.get(site_url).text\n",
    "    \n",
    "def get_matching_substrings(source, substring): \n",
    "    return re.findall(substring, source)\n",
    "\n",
    "main('mail.ru', 'script')"
   ]
  },
  {
   "cell_type": "markdown",
   "metadata": {},
   "source": [
    "Часто вам необходимо отлаживать не в одном месте, и вы хотите исполнение до определённого момента. На помощь приходят брейкпоинты, которые очень удобно ставятся в IDE. В pdb можно воспользоваться командой b, которая, если написать её без аргументов, выводит все брейкопоинты, которые мы уже определили. Если мы используем эту команду с номером строки (например, b 10), она поставит брейкопоинт на десятую строку. И когда исполнение программы дойдёт до этой строки, интерпретатор Python остановится. Мы можем написать continue и остановиться ровно на нашем брейкпоинте.\n",
    "Итак, мы познакомились с Python Debugger-ом — простым и удобным инструментом для отладки программ на Python, которым можно пользоваться как в Jupyter Notebook, так и в консоли."
   ]
  },
  {
   "cell_type": "markdown",
   "metadata": {},
   "source": [
    "### 2.6.2. Тестирование"
   ]
  },
  {
   "cell_type": "markdown",
   "metadata": {},
   "source": [
    "Настало время поговорить о тестировании, которого так бояться многие программисты. Если вы работаете над большим, быстро изменяющимся проектом с большим количеством разработчиков, вам нужно постоянно проверять, правильно ли работает ваша программа в различных условиях. Именно это и называется тестированием. \n",
    "Тестированию можно посвятить отдельную тему, курс и даже специализацию, потому что это огромная область. Мы с вами разберем наиболее популярный и распространенный вид тестирования — это unit-тестирование.\n",
    "Unit-тесты призваны протестировать небольшую функцию, класс или модуль — посмотреть, корректно ли он работает. \n",
    "Чтобы определить свой unittest можно воспользоваться стандартной библиотекой модулей unittest и определить свой класс, который наследуется от TestCase из модуля unittest. \n",
    "Внутри класса вы можете определить функции, которые и будут являться тестами. Каждая функция, которая начинается с test_ является тестом. \n",
    "В следующем примере мы хотим проверить, правильно ли у нас приводится типы, и например, корректно ли у нас работает функция get у пустого словаря. \n",
    "Делается это с помощью методов TestCase: assertEqual, assertIsNone, assertRaises и т.д. (подробнее можно прочесть в документации). Все они делают одно: проверяют, корректно ли работает выражение, правильно ли вызывается функция и так далее:"
   ]
  },
  {
   "cell_type": "code",
   "execution_count": null,
   "metadata": {},
   "outputs": [],
   "source": [
    "# test_python.py\n",
    "\n",
    "import unittest\n",
    "\n",
    "class TestPython(unittest.TestCase): \n",
    "    \n",
    "    def test_float_to_int_coercion(self): \n",
    "        self.assertEqual(1, int(1.0))\n",
    "        \n",
    "    def test_get_empty_dict(self): \n",
    "        self.assertIsNone({}.get('key'))\n",
    "        \n",
    "    def test_trueness(self): \n",
    "        self.assertTrue(bool(10))"
   ]
  },
  {
   "cell_type": "markdown",
   "metadata": {},
   "source": [
    "Для запуска тестов можно воспользоваться консолью. Ещё чаще тесты запускает автоматическая система сборки или тестирования или IDE. Давайте перейдем в консоль и запустим наши тесты:"
   ]
  },
  {
   "cell_type": "markdown",
   "metadata": {},
   "source": [
    "python3 -m unittest test_python.py \n",
    "... \n",
    "---------------------------------------------------------------------\n",
    "Ran 3 tests in 0.000s\n",
    "OK\n",
    "\n",
    "Наши тесты прошли - об этом говорят три точки и надпись.\n",
    "Давайте запустим тест, который не должен проходить, и посмотрим, что из этого выйдет:\n"
   ]
  },
  {
   "cell_type": "code",
   "execution_count": null,
   "metadata": {},
   "outputs": [],
   "source": [
    "# test_division.py\n",
    "\n",
    "import unittest\n",
    "\n",
    "class TestDivision(unittest.TestCase):\n",
    "    \n",
    "    def test_integer_division(self): \n",
    "        self.assertIs(10 / 5, 2)\n"
   ]
  },
  {
   "cell_type": "markdown",
   "metadata": {},
   "source": [
    "python3 -m unittest test_division.py F ====================================================================== \n",
    "FAIL: test_integer_division (test_division.TestDivision) \n",
    "---------------------------------------------------------------------\n",
    "Traceback (most recent call last): \n",
    "File \n",
    "\"/Users/alexander/Dropbox/Teaching/coursera/tests/test_division.py\", \n",
    "line 6, in test_integer_division \n",
    "    self.assertIs(10 / 5, 2) \n",
    "AssertionError: 2.0 is not 2\n",
    "\n",
    "---------------------------------------------------------------------\n",
    "Ran 1 test in 0.000s\n",
    "\n",
    "FAILED (failures=1)"
   ]
  },
  {
   "cell_type": "markdown",
   "metadata": {},
   "source": [
    "Да, наш тест упал. Об этом говорит буква F и дальнейшее описание. Можем посмотреть, какая функция упала и с каким AssertionError.\n",
    "Давайте посмотрим на конкретный пример — напишем свой собственный класс и попробуем его протестировать. Пусть это будет Asteroid для работы с открытым API \n",
    "NASA по астероидам и прочим телам, которые летают вокруг Земли:"
   ]
  },
  {
   "cell_type": "code",
   "execution_count": null,
   "metadata": {},
   "outputs": [],
   "source": [
    "import requests\n",
    "\n",
    "class Asteroid: \n",
    "    \n",
    "    BASE_API_URL = 'https://api.nasa.gov/neo/rest/v1/neo/{}?api_key=DEMO_KEY'\n",
    "    \n",
    "    def __init__(self, spk_id): \n",
    "        self.api_url = self.BASE_API_URL.format(spk_id)\n",
    "    \n",
    "    def get_data(self): \n",
    "        return requests.get(self.api_url).json()\n",
    "    \n",
    "    @property \n",
    "    def name(self): \n",
    "        return self.get_data()['name']\n",
    "    \n",
    "    @property \n",
    "    def diameter(self): \n",
    "        return int(self.get_data()['estimated_' + 'diameter']['meters']['estimated_diameter_max'])\n",
    "    \n",
    "    @property \n",
    "    def closest_approach(self): \n",
    "        closest = { 'date': None, 'distance': float('inf') } \n",
    "        for approach in self.get_data()['close_approach_data']: \n",
    "            distance = float(approach['miss_distance']['lunar']) \n",
    "            if distance < closest['distance']: \n",
    "                closest.update({ 'date': approach['close_approach_date'], 'distance': distance }) \n",
    "        return closest\n"
   ]
  },
  {
   "cell_type": "markdown",
   "metadata": {},
   "source": [
    "Вы можете заметить, что мы каждый раз вызываем функцию get_data и каждый раз идем в Интернет. Действительно, это можно оптимизировать. Давайте протестируем наш класс и посмотрим, корректно ли работают функции name и diameter. \n",
    "Однако, есть некоторая тонкость. Каждый раз, когда мы будем запускать тесты, TestCase будет ходить в Интернет, потому что запускается функция get_data. \n",
    "Это не всегда будет работать, т.к. мы можем запускать наши тесты в окружении без Интернета (или Интернет медленный, или мы экономим трафик). То же самое можно сказать про работу с сетями вообще или другими ресурсами, например, с диском (возможно, мы не хотим загружать диск). Что же делать в таком случае? \n",
    "Рассмотрим на примере несколько полезных механизмов.\n",
    "Итак, давайте протестируем наш класс Asteroid на примере астероида Апофис (довольно большой астероид, сближающийся с Землёй):"
   ]
  },
  {
   "cell_type": "code",
   "execution_count": null,
   "metadata": {},
   "outputs": [],
   "source": []
  },
  {
   "cell_type": "markdown",
   "metadata": {},
   "source": [
    "Напишем TestCase для нашего класса. Сначала определяем новую функцию setUp, призванную установить окружение, которое будет работать во время исполнения тестовой функции. \n",
    "Таким образом, если нам нужно работать с объектом класса Asteroid, функция setUp будет в начале исполнения каждой функции создавать этот объект, чтобы не дублировать код в начале тестовых функций. (Существует симметричный метод, который называется tearDown, который позволяет закрывать ресурсы и удалять объекты в конце каждой тестовой функции.)\n",
    "Давайте напишем две тестовые функции, которые будут проверять работу name и diameter. Однако, что если мы тестируем наши функции в окружении без Интернета? На помощь приходит механизм mock из модуля unittest.mock, который позволяет подменять одни функции другими. Таким образом, мы можем на самом деле не ходить в Интернет, а читать информацию из файла. В следующем примере мы подменим функцию get_data другой функцией, которая просто читает из файла. Делается это с помощью декоратора @patch. Мы можем проверять внутри тестовой функции определенные условия — в данном случае корректность имени астероида и значения его размера:"
   ]
  },
  {
   "cell_type": "code",
   "execution_count": null,
   "metadata": {},
   "outputs": [],
   "source": [
    "import json \n",
    "import unittest \n",
    "from unittest.mock import patch\n",
    "from asteroid import Asteroid\n",
    "\n",
    "class TestAsteroid(unittest.TestCase):\n",
    "    \n",
    "    def setUp(self): \n",
    "        self.asteroid = Asteroid(2099942)\n",
    "        \n",
    "    def mocked_get_data(self): \n",
    "        with open('apophis_fixture.txt') as f: \n",
    "            return json.loads(f.read())\n",
    "        \n",
    "    @patch('asteroid.Asteroid.get_data', mocked_get_data) \n",
    "    def test_name(self): \n",
    "        self.assertEqual( self.asteroid.name, '99942 Apophis (2004 MN4)' )\n",
    "        \n",
    "    @patch('asteroid.Asteroid.get_data', mocked_get_data) \n",
    "    def test_diameter(self): \n",
    "        self.assertEqual(self.asteroid.diameter, 682)\n"
   ]
  },
  {
   "cell_type": "markdown",
   "metadata": {},
   "source": [
    "Запустим наш тестовый класс:\n",
    "python3 -m unittest test_asteroid.py \n",
    "..\n",
    "----------------------------------------------------------------------------\n",
    "\n",
    "Ran 2 tests in 0.004s\n",
    "\n",
    "OK\n",
    "\n",
    "Скорее всего вы не будете запускать тесты вручную. Это будет запускать автоматическая система. Также существует возможность автоматического нахождения тестов, которые лежат в директории tests.\n",
    "Мы написали тест для нашего класса и знаем, что у атрибуты name и diameter работают корректно. Осталось только выяснить, когда прилетит астероид и насколько близко:"
   ]
  },
  {
   "cell_type": "code",
   "execution_count": null,
   "metadata": {},
   "outputs": [],
   "source": []
  },
  {
   "cell_type": "markdown",
   "metadata": {},
   "source": [
    "Как видите, довольно близко, но специалисты лаборатории реактивного движения NASA заявили, что возможность столкновения с Землёй в 2029 году исключена."
   ]
  },
  {
   "cell_type": "code",
   "execution_count": null,
   "metadata": {},
   "outputs": [],
   "source": []
  }
 ],
 "metadata": {
  "kernelspec": {
   "display_name": "Python 3",
   "language": "python",
   "name": "python3"
  },
  "language_info": {
   "codemirror_mode": {
    "name": "ipython",
    "version": 3
   },
   "file_extension": ".py",
   "mimetype": "text/x-python",
   "name": "python",
   "nbconvert_exporter": "python",
   "pygments_lexer": "ipython3",
   "version": "3.6.4"
  }
 },
 "nbformat": 4,
 "nbformat_minor": 2
}
